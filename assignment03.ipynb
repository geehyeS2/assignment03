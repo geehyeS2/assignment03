{
 "cells": [
  {
   "cell_type": "markdown",
   "metadata": {},
   "source": [
    "### This is script implement k-means algorithm\n",
    "\n",
    "### Name : Jee-Hye Yang\n",
    "\n",
    "### Student ID : 20145708\n",
    "\n",
    "### GitHub address : https://github.com/geehyeS2/assignment03\n"
   ]
  },
  {
   "cell_type": "code",
   "execution_count": 226,
   "metadata": {},
   "outputs": [],
   "source": [
    "import sys\n",
    "import pandas as pd\n",
    "import numpy as np\n",
    "import matplotlib.pyplot as plt\n",
    "from sys import stdin\n",
    "import math\n",
    "from sklearn.cluster import KMeans"
   ]
  },
  {
   "cell_type": "markdown",
   "metadata": {},
   "source": [
    "### define generatePointCluster function\n",
    "\n",
    "#### Generate number of random point"
   ]
  },
  {
   "cell_type": "code",
   "execution_count": 227,
   "metadata": {},
   "outputs": [
    {
     "data": {
      "image/png": "[encoded data removed]",
      "text/plain": [
       "<Figure size 360x360 with 1 Axes>"
      ]
     },
     "metadata": {},
     "output_type": "display_data"
    }
   ],
   "source": [
    "i = 0\n",
    "np.random.seed(100)\n",
    "\n",
    "\n",
    "    \n",
    "\n",
    "def generatePointCluster(Cluster_Num,Point_Num) :\n",
    "    \n",
    "    generate = {\n",
    "     i+1: [np.random.randint(0, 100), np.random.randint(0, 100)]\n",
    "    for i in range(100)\n",
    "     }\n",
    "    \n",
    "    #print(generate)\n",
    "        #generate = pd.DataFrame({\n",
    "        #'generate_x':[np.random.randint(0,100,Point_Num)],\n",
    "        #'generate_y':[np.random.randint(0,100,Point_Num)]\n",
    "        #})\n",
    "\n",
    "    \n",
    "    k = Cluster_Num\n",
    "    \n",
    "    clusterPoint = {\n",
    "    i+1: [np.random.randint(0, 100), np.random.randint(0, 100)]\n",
    "    for i in range(k)\n",
    "    }  \n",
    "    return (clusterPoint)\n",
    "    \n",
    "fig = plt.figure(figsize=(5, 5))\n",
    "\n",
    "generatePointCluster(3,100)\n",
    "\n",
    "#plt.scatter(generate_x,generate_y,color='k')\n",
    "\n",
    "for i in generate.keys():\n",
    "    plt.scatter(*generate[i], color='k')\n",
    "    \n",
    "colmap = {1: 'r', 2: 'g', 3: 'b'}\n",
    "for i in clusterPoint.keys():\n",
    "    plt.scatter(*clusterPoint[i], color=colmap[i])\n",
    "plt.xlim(0,100)\n",
    "plt.ylim(0, 100)\n",
    "plt.show()\n",
    "\n",
    "#################################generatePointCluster function define\n",
    "\n",
    "\n",
    "\n",
    "\n",
    "\n",
    "\n"
   ]
  },
  {
   "cell_type": "code",
   "execution_count": null,
   "metadata": {},
   "outputs": [],
   "source": []
  },
  {
   "cell_type": "code",
   "execution_count": null,
   "metadata": {},
   "outputs": [],
   "source": []
  },
  {
   "cell_type": "code",
   "execution_count": null,
   "metadata": {},
   "outputs": [],
   "source": []
  }
 ],
 "metadata": {
  "kernelspec": {
   "display_name": "Python 3",
   "language": "python",
   "name": "python3"
  },
  "language_info": {
   "codemirror_mode": {
    "name": "ipython",
    "version": 3
   },
   "file_extension": ".py",
   "mimetype": "text/x-python",
   "name": "python",
   "nbconvert_exporter": "python",
   "pygments_lexer": "ipython3",
   "version": "3.6.5"
  }
 },
 "nbformat": 4,
 "nbformat_minor": 2
}
